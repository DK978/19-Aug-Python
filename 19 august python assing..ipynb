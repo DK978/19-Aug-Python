{
 "cells": [
  {
   "cell_type": "markdown",
   "id": "31ef9bb0-0c0d-4df5-9cd2-fb1ac73e739c",
   "metadata": {},
   "source": [
    "''' Q.1 Declare two variables, `x` and `y`, and assign them integer values. Swap the\n",
    "values of these variables without using any temporary variable.'''"
   ]
  },
  {
   "cell_type": "code",
   "execution_count": 9,
   "id": "120e383a-9fb4-44c5-bdf6-eeaa19443ca1",
   "metadata": {},
   "outputs": [
    {
     "name": "stdout",
     "output_type": "stream",
     "text": [
      "Before swap x: 2 and y: 4\n",
      "After swap x: 4 and y: 2\n"
     ]
    }
   ],
   "source": [
    "\n",
    "x = 2\n",
    "y = 4\n",
    "\n",
    "\n",
    "def swap_variables(x,y):\n",
    "  print(f\"Before swap x: {x} and y: {y}\")\n",
    "  x,y = y, x\n",
    "  print(f\"After swap x: {x} and y: {y}\")\n",
    "\n",
    "swap_variables(x,y)"
   ]
  },
  {
   "cell_type": "markdown",
   "id": "d849f9b3-d907-4143-bffa-a3cf29fe2657",
   "metadata": {},
   "source": [
    "# Q 2. Create a program that calculates the area of a rectangle. \n",
    "Take the length and width as inputs from the user and store them in variables. Calculate and display the area"
   ]
  },
  {
   "cell_type": "code",
   "execution_count": 12,
   "id": "aaf6db96-bde4-41fe-8c62-2fd374466ce6",
   "metadata": {},
   "outputs": [
    {
     "name": "stdin",
     "output_type": "stream",
     "text": [
      "Enter the length of the rectangle:  15\n",
      "Enter the width of the rectangle:  20\n"
     ]
    },
    {
     "name": "stdout",
     "output_type": "stream",
     "text": [
      "The area of the rectangle is: 300.0\n"
     ]
    }
   ],
   "source": [
    "# Step 1\n",
    "length = float(input(\"Enter the length of the rectangle: \")) \n",
    "width = float(input(\"Enter the width of the rectangle: \"))   \n",
    "\n",
    "# Step 2\n",
    "area = length * width \n",
    "\n",
    "# Step 3\n",
    "print(\"The area of the rectangle is:\", area) "
   ]
  },
  {
   "cell_type": "markdown",
   "id": "62aa5e76-3cbf-40d1-948e-c7d1c9d44daf",
   "metadata": {},
   "source": [
    "# Q3. Write a Python program that converts temperatures from Celsius to Fahrenheit. \n",
    "Take the temperature in Celsius as input, store it in a variable, convert it to Fahrenheit, and display the result.\n"
   ]
  },
  {
   "cell_type": "code",
   "execution_count": 14,
   "id": "af2a7be7-454c-45fb-b8e6-1089e2cbb418",
   "metadata": {},
   "outputs": [
    {
     "name": "stdin",
     "output_type": "stream",
     "text": [
      "Enter temperature in Celsius:  25\n"
     ]
    },
    {
     "name": "stdout",
     "output_type": "stream",
     "text": [
      "25.0 Celsius is equal to 77.00 Fahrenheit\n"
     ]
    }
   ],
   "source": [
    "# Step 1: \n",
    "celsius_temperature = float(input(\"Enter temperature in Celsius: \"))\n",
    "\n",
    "# Step 2: Convert Celsius to Fahrenheit using the formula: (C * 9/5) + 32\n",
    "fahrenheit_temperature = (celsius_temperature * 9/5) + 32\n",
    "\n",
    "# Step 3: \n",
    "print(f\"{celsius_temperature} Celsius is equal to {fahrenheit_temperature:.2f} Fahrenheit\")"
   ]
  },
  {
   "cell_type": "markdown",
   "id": "2ef783e9-de49-41f2-8c68-82ee370555d6",
   "metadata": {},
   "source": [
    "# Q 1. Write a Python program that takes a string as input and prints the length of the string."
   ]
  },
  {
   "cell_type": "code",
   "execution_count": 15,
   "id": "f6530776-3924-4384-a153-02e4570b3603",
   "metadata": {},
   "outputs": [
    {
     "name": "stdin",
     "output_type": "stream",
     "text": [
      "Enter a string:  My Name is Deepak Kumar \n"
     ]
    },
    {
     "name": "stdout",
     "output_type": "stream",
     "text": [
      "The length of the input string is: 24\n"
     ]
    }
   ],
   "source": [
    "# Step 1: \n",
    "input_string = input(\"Enter a string: \")\n",
    "\n",
    "# Step 2: \n",
    "string_length = len(input_string)\n",
    "\n",
    "# Step 3:\n",
    "print(\"The length of the input string is:\", string_length)"
   ]
  },
  {
   "cell_type": "code",
   "execution_count": 17,
   "id": "5efdcc97-993f-4347-8cf9-5a1e1e267475",
   "metadata": {},
   "outputs": [],
   "source": [
    "# Q 2. Create a program that takes a sentence from the user and counts the number of vowels (a, e, i, o, u) in the string."
   ]
  },
  {
   "cell_type": "code",
   "execution_count": 25,
   "id": "9a08be2c-2d28-49cc-9cd5-73284c0f940d",
   "metadata": {},
   "outputs": [
    {
     "name": "stdin",
     "output_type": "stream",
     "text": [
      "Enter a sentence:  Data science \n"
     ]
    },
    {
     "name": "stdout",
     "output_type": "stream",
     "text": [
      "Number of vowels: 5\n"
     ]
    }
   ],
   "source": [
    "\n",
    "sentence = input(\"Enter a sentence: \")\n",
    "\n",
    "\n",
    "vowel_count = 0\n",
    "\n",
    "\n",
    "for char in sentence:\n",
    "   \n",
    "    char_lower = char.lower()\n",
    "\n",
    "\n",
    "    if char_lower in \"aeiou\":\n",
    "       \n",
    "        vowel_count += 1\n",
    "\n",
    "\n",
    "print(\"Number of vowels:\", vowel_count)"
   ]
  },
  {
   "cell_type": "code",
   "execution_count": 26,
   "id": "512acb70-6eec-4e1e-89a5-c88e76185a5e",
   "metadata": {},
   "outputs": [],
   "source": [
    "# Q 3. Given a string, reverse the order of characters using string slicing and print the reversed string."
   ]
  },
  {
   "cell_type": "code",
   "execution_count": 27,
   "id": "dc75a316-50bb-477e-8db4-12737542b8dd",
   "metadata": {},
   "outputs": [
    {
     "name": "stdin",
     "output_type": "stream",
     "text": [
      "Enter a string:  Hello World \n"
     ]
    },
    {
     "name": "stdout",
     "output_type": "stream",
     "text": [
      "Reversed string:  dlroW olleH\n"
     ]
    }
   ],
   "source": [
    "\n",
    "input_string = input(\"Enter a string: \")\n",
    "\n",
    "\n",
    "reversed_string = input_string[::-1]\n",
    "\n",
    "\n",
    "print(\"Reversed string:\", reversed_string)"
   ]
  },
  {
   "cell_type": "code",
   "execution_count": 28,
   "id": "f32bf0da-bb16-418f-8833-a6aa17f9ea6a",
   "metadata": {},
   "outputs": [],
   "source": [
    "# Q 4. Write a program that takes a string as input and checks if it is a palindrome (reads the same forwards and backwards)"
   ]
  },
  {
   "cell_type": "code",
   "execution_count": 29,
   "id": "1871d860-ab07-4f6d-a450-670b2d9cfe99",
   "metadata": {},
   "outputs": [
    {
     "name": "stdin",
     "output_type": "stream",
     "text": [
      "Enter a string:  Hello World \n"
     ]
    },
    {
     "name": "stdout",
     "output_type": "stream",
     "text": [
      "The input string is not a palindrome.\n"
     ]
    }
   ],
   "source": [
    "\n",
    "input_string = input(\"Enter a string: \")\n",
    "\n",
    "\n",
    "cleaned_string = input_string.replace(\" \", \"\").lower()\n",
    "\n",
    "\n",
    "reversed_string = cleaned_string[::-1]\n",
    "\n",
    "\n",
    "if cleaned_string == reversed_string:\n",
    "    print(\"The input string is a palindrome.\")\n",
    "else:\n",
    "    print(\"The input string is not a palindrome.\")"
   ]
  },
  {
   "cell_type": "code",
   "execution_count": 30,
   "id": "0afbab89-f1d1-4581-ad2d-1ca022f518a9",
   "metadata": {},
   "outputs": [],
   "source": [
    "#Q 5. Create a program that takes a string as input and removes all the spaces from it. Print the modified string without spaces."
   ]
  },
  {
   "cell_type": "code",
   "execution_count": 31,
   "id": "c7a328c2-6a78-4d84-affe-52fa442fec12",
   "metadata": {},
   "outputs": [
    {
     "name": "stdin",
     "output_type": "stream",
     "text": [
      "Enter a string:  Data Science Master Program \n"
     ]
    },
    {
     "name": "stdout",
     "output_type": "stream",
     "text": [
      "Modified string without spaces: DataScienceMasterProgram\n"
     ]
    }
   ],
   "source": [
    "\n",
    "input_string = input(\"Enter a string: \")\n",
    "\n",
    "\n",
    "modified_string = \"\"\n",
    "\n",
    "\n",
    "for char in input_string:\n",
    "   \n",
    "    if char != \" \":\n",
    "       \n",
    "        modified_string += char\n",
    "\n",
    "\n",
    "print(\"Modified string without spaces:\", modified_string)"
   ]
  },
  {
   "cell_type": "code",
   "execution_count": null,
   "id": "01409583-5c05-4d97-ab4f-8e90e2dfbd2c",
   "metadata": {},
   "outputs": [],
   "source": []
  }
 ],
 "metadata": {
  "kernelspec": {
   "display_name": "Python 3 (ipykernel)",
   "language": "python",
   "name": "python3"
  },
  "language_info": {
   "codemirror_mode": {
    "name": "ipython",
    "version": 3
   },
   "file_extension": ".py",
   "mimetype": "text/x-python",
   "name": "python",
   "nbconvert_exporter": "python",
   "pygments_lexer": "ipython3",
   "version": "3.10.8"
  }
 },
 "nbformat": 4,
 "nbformat_minor": 5
}
